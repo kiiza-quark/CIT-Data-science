{
  "cells": [
    {
      "cell_type": "markdown",
      "metadata": {
        "colab_type": "text",
        "id": "view-in-github"
      },
      "source": [
        "<a href=\"https://colab.research.google.com/github/kiiza-quark/CIT-Data-science/blob/main/lesson2.ipynb\" target=\"_parent\"><img src=\"https://colab.research.google.com/assets/colab-badge.svg\" alt=\"Open In Colab\"/></a>"
      ]
    },
    {
      "cell_type": "code",
      "execution_count": 5,
      "metadata": {
        "id": "8pg9EQqVEnxN"
      },
      "outputs": [],
      "source": [
        "import pandas as pd\n",
        "import numpy as np\n",
        "import statistics as st"
      ]
    },
    {
      "cell_type": "markdown",
      "metadata": {
        "id": "SZKfWYUDFDpJ"
      },
      "source": [
        "### Iterating through numpy arrays"
      ]
    },
    {
      "cell_type": "code",
      "execution_count": 6,
      "metadata": {},
      "outputs": [
        {
          "name": "stdout",
          "output_type": "stream",
          "text": [
            "23\n",
            "11\n",
            "22\n",
            "11\n"
          ]
        }
      ],
      "source": [
        "arr = np.array([23,11,22,11])\n",
        "for item in arr:\n",
        "    print(item)"
      ]
    },
    {
      "cell_type": "code",
      "execution_count": 9,
      "metadata": {},
      "outputs": [
        {
          "name": "stdout",
          "output_type": "stream",
          "text": [
            "[12 33 44]\n",
            "[33 66 77]\n",
            "12\n",
            "33\n",
            "44\n",
            "33\n",
            "66\n",
            "77\n"
          ]
        }
      ],
      "source": [
        "#2d array\n",
        "\n",
        "arr = np.array([\n",
        "    [12,33,44],\n",
        "    [33,66,77]\n",
        "])\n",
        "\n",
        "for item in arr:\n",
        "    print(item)\n",
        "\n",
        "for row in arr:\n",
        "    for item in row:\n",
        "        print(item)"
      ]
    },
    {
      "cell_type": "code",
      "execution_count": 10,
      "metadata": {},
      "outputs": [
        {
          "name": "stdout",
          "output_type": "stream",
          "text": [
            "(0, 0) 12\n",
            "(0, 1) 33\n",
            "(0, 2) 44\n",
            "(1, 0) 33\n",
            "(1, 1) 66\n",
            "(1, 2) 77\n"
          ]
        }
      ],
      "source": [
        "arr = np.array([\n",
        "    [12,33,44],\n",
        "    [33,66,77]\n",
        "])\n",
        "\n",
        "for index, item in np.ndenumerate(arr):\n",
        "    print(index, item)"
      ]
    },
    {
      "cell_type": "code",
      "execution_count": 15,
      "metadata": {},
      "outputs": [
        {
          "data": {
            "text/plain": [
              "array([23, 11, 22, 11, 22, 33, 11, 22, 12, 33, 44, 33, 66, 77])"
            ]
          },
          "execution_count": 15,
          "metadata": {},
          "output_type": "execute_result"
        }
      ],
      "source": [
        "arr = np.array([23,11,22,11])\n",
        "arr2 = np.array([22,33,11, 22])\n",
        "arr3 = np.array([\n",
        "    [12,33,44],\n",
        "    [33,66,77]\n",
        "])\n",
        "combination = np.concatenate((arr, arr2, arr3.flatten()))\n",
        "combination"
      ]
    }
  ],
  "metadata": {
    "colab": {
      "authorship_tag": "ABX9TyOJBRP50TKJHv4Es2p5/1ps",
      "include_colab_link": true,
      "provenance": [],
      "toc_visible": true
    },
    "kernelspec": {
      "display_name": "Python 3.10.7 64-bit",
      "language": "python",
      "name": "python3"
    },
    "language_info": {
      "codemirror_mode": {
        "name": "ipython",
        "version": 3
      },
      "file_extension": ".py",
      "mimetype": "text/x-python",
      "name": "python",
      "nbconvert_exporter": "python",
      "pygments_lexer": "ipython3",
      "version": "3.10.7"
    },
    "vscode": {
      "interpreter": {
        "hash": "df95319d8ce4e1d89f5365ae10992bc1f65da593082b1d264e8f529830ec2f02"
      }
    }
  },
  "nbformat": 4,
  "nbformat_minor": 0
}
