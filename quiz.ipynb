{
 "cells": [
  {
   "cell_type": "markdown",
   "metadata": {},
   "source": [
    "# Numpy Array Quiz\n",
    "\n",
    "## Question 1\n",
    "\n",
    "What is the result of the following code?\n",
    "\n",
    "```python\n",
    "    import numpy as np\n",
    "    a = np.array([1, 2, 3])\n",
    "    b = np.array([4, 5, 6])\n",
    "    c = a + b\n",
    "    print(c)\n",
    "```\n",
    "\n",
    "## Question 2\n",
    "\n",
    "Create a numpy array of 10 zeros. and reshape it to (2, 5)\n",
    "\n",
    "## Question 3\n",
    "\n",
    "Find Mean, Mode, Median, Standard Deviation of the following data\n",
    "\n",
    "```python\n",
    "    data = [1, 2, 3, 4, 5, 6, 7, 8, 9, 10, 11, 12, 13, 14, 15, 16, 17, 18, 19, 20]\n",
    "```\n",
    "\n",
    "## Question 4\n",
    "\n",
    "create a 6x6 numpy array with random values and find the min and max values\n",
    "\n",
    "## Question 5\n",
    "\n",
    "create a 3D numpy array and reshape it to 2D\n",
    "\n",
    "## Question 6\n",
    "\n",
    "create 1D array from this data\n",
    "\n",
    "```python\n",
    "    data = [[1, 2, 3], [4, 5, 6], [7, 8, 9]]\n",
    "```\n"
   ]
  },
  {
   "cell_type": "markdown",
   "metadata": {},
   "source": [
    "\n",
    "## Question 1\n",
    "\n",
    "What is the result of the following code?\n"
   ]
  },
  {
   "cell_type": "code",
   "execution_count": null,
   "metadata": {},
   "outputs": [],
   "source": [
    "\n",
    "import numpy as np\n",
    "a = np.array([1, 2, 3])\n",
    "b = np.array([4, 5, 6])\n",
    "c = a + b\n",
    "print(c)\n"
   ]
  },
  {
   "cell_type": "markdown",
   "metadata": {},
   "source": [
    "\n",
    "## Question 2\n",
    "\n",
    "Create a numpy array of 10 zeros. and reshape it to (2, 5)\n"
   ]
  },
  {
   "cell_type": "code",
   "execution_count": 11,
   "metadata": {},
   "outputs": [
    {
     "data": {
      "text/plain": [
       "array([[0, 0, 0, 0, 0],\n",
       "       [0, 0, 0, 0, 0]])"
      ]
     },
     "execution_count": 11,
     "metadata": {},
     "output_type": "execute_result"
    }
   ],
   "source": [
    "import numpy as np\n",
    "arr = np.array([0 for i in range(10)])\n",
    "arr.reshape(2,5)"
   ]
  },
  {
   "cell_type": "markdown",
   "metadata": {},
   "source": [
    "## Question 3\n",
    "\n",
    "Find Mean, Mode, Median, Standard Deviation of the following data\n",
    "\n",
    "```python\n",
    "    data = [1, 2, 3, 4, 5, 6, 7, 8, 9, 10, 11, 12, 13, 14, 15, 16, 17, 18, 19, 20]\n",
    "```\n"
   ]
  },
  {
   "cell_type": "code",
   "execution_count": 6,
   "metadata": {},
   "outputs": [
    {
     "data": {
      "text/plain": [
       "'Mean:10.5 Mode:1 Median:10.5'"
      ]
     },
     "execution_count": 6,
     "metadata": {},
     "output_type": "execute_result"
    }
   ],
   "source": [
    "import numpy as np\n",
    "import statistics as st\n",
    "data = [1, 2, 3, 4, 5, 6, 7, 8, 9, 10, 11, 12, 13, 14, 15, 16, 17, 18, 19, 20]\n",
    "\n",
    "np_data = np.array(data)\n",
    "mean = np_data.mean()\n",
    "mode = st.mode(np_data)\n",
    "median = st.median(np_data)\n",
    "\n",
    "f\"Mean:{mean} Mode:{mode} Median:{median}\"\n"
   ]
  },
  {
   "cell_type": "markdown",
   "metadata": {},
   "source": [
    "## Question 4\n",
    "\n",
    "create a 6x6 numpy array with random values and find the min and max values\n"
   ]
  },
  {
   "cell_type": "code",
   "execution_count": 8,
   "metadata": {},
   "outputs": [
    {
     "data": {
      "text/plain": [
       "776"
      ]
     },
     "execution_count": 8,
     "metadata": {},
     "output_type": "execute_result"
    }
   ],
   "source": [
    "arr = np.array([\n",
    "    [11,44,33,22,55,66],\n",
    "    [77,44,2,33,66,55],\n",
    "    [80,77,66,56,44,23],\n",
    "    [89,43,23,66,776,55],\n",
    "    [90,54,33,22,33,55],\n",
    "    [67,78,77,87,67,66],\n",
    "])\n",
    "\n",
    "arr.min()\n",
    "arr.max()\n"
   ]
  },
  {
   "cell_type": "markdown",
   "metadata": {},
   "source": [
    "## Question 5\n",
    "\n",
    "create a 3D numpy array and reshape it to 2D\n"
   ]
  },
  {
   "cell_type": "code",
   "execution_count": 29,
   "metadata": {},
   "outputs": [
    {
     "data": {
      "text/plain": [
       "1"
      ]
     },
     "execution_count": 29,
     "metadata": {},
     "output_type": "execute_result"
    }
   ],
   "source": [
    "arr = np.array([[[10,20], [30,40], [50,60], [70,80]]])\n",
    "\n",
    "arr.resize(2)\n",
    "arr.ndim"
   ]
  },
  {
   "cell_type": "markdown",
   "metadata": {},
   "source": [
    "create 1D array from this data\n",
    "\n",
    "```python\n",
    "    data = [[1, 2, 3], [4, 5, 6], [7, 8, 9]]\n",
    "```\n"
   ]
  },
  {
   "cell_type": "code",
   "execution_count": 21,
   "metadata": {},
   "outputs": [
    {
     "data": {
      "text/plain": [
       "1"
      ]
     },
     "execution_count": 21,
     "metadata": {},
     "output_type": "execute_result"
    }
   ],
   "source": [
    "data = [[1, 2, 3], [4, 5, 6], [7, 8, 9]]\n",
    "np_data = np.array(data)\n",
    "np_data.resize(1)\n",
    "np_data.ndim\n"
   ]
  }
 ],
 "metadata": {
  "kernelspec": {
   "display_name": "Python 3.10.7 64-bit",
   "language": "python",
   "name": "python3"
  },
  "language_info": {
   "codemirror_mode": {
    "name": "ipython",
    "version": 3
   },
   "file_extension": ".py",
   "mimetype": "text/x-python",
   "name": "python",
   "nbconvert_exporter": "python",
   "pygments_lexer": "ipython3",
   "version": "3.10.7"
  },
  "orig_nbformat": 4,
  "vscode": {
   "interpreter": {
    "hash": "df95319d8ce4e1d89f5365ae10992bc1f65da593082b1d264e8f529830ec2f02"
   }
  }
 },
 "nbformat": 4,
 "nbformat_minor": 2
}
