{
 "cells": [
  {
   "cell_type": "code",
   "execution_count": 1,
   "metadata": {},
   "outputs": [],
   "source": [
    "import pandas as pd\n",
    "import numpy as np\n"
   ]
  },
  {
   "cell_type": "code",
   "execution_count": 5,
   "metadata": {},
   "outputs": [
    {
     "name": "stdout",
     "output_type": "stream",
     "text": [
      "     name  marks\n",
      "0  kizzah    100\n",
      "1    john     66\n",
      "2     doe     77\n",
      "3    jack     90\n",
      "4    jill     77\n",
      "name     [kizzah, john, doe, jack, jill]\n",
      "marks              [100, 66, 77, 90, 77]\n",
      "dtype: object\n"
     ]
    }
   ],
   "source": [
    "dataset = {\n",
    "    'name': ['kizzah', 'john', 'doe', 'jack', 'jill'],\n",
    "    'marks': [100,66,77,90,77],\n",
    "}\n",
    "\n",
    "df = pd.DataFrame(dataset)\n",
    "serries =pd.Series(dataset)\n",
    "print(df)\n",
    "print(serries)"
   ]
  }
 ],
 "metadata": {
  "kernelspec": {
   "display_name": "Python 3.10.7 64-bit",
   "language": "python",
   "name": "python3"
  },
  "language_info": {
   "codemirror_mode": {
    "name": "ipython",
    "version": 3
   },
   "file_extension": ".py",
   "mimetype": "text/x-python",
   "name": "python",
   "nbconvert_exporter": "python",
   "pygments_lexer": "ipython3",
   "version": "3.10.7"
  },
  "orig_nbformat": 4,
  "vscode": {
   "interpreter": {
    "hash": "df95319d8ce4e1d89f5365ae10992bc1f65da593082b1d264e8f529830ec2f02"
   }
  }
 },
 "nbformat": 4,
 "nbformat_minor": 2
}
