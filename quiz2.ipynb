{
 "cells": [
  {
   "cell_type": "markdown",
   "metadata": {},
   "source": [
    "QUIZ LINK: https://github.com/CIT-PROJECTS-2021/cit-cohort-three/blob/main/week12/pandas_quiz.md\n",
    "\n",
    "SUBMISSION LINK: "
   ]
  },
  {
   "cell_type": "markdown",
   "metadata": {},
   "source": [
    "# Pandas Quiz"
   ]
  },
  {
   "cell_type": "markdown",
   "metadata": {},
   "source": [
    "## Question 1\n",
    "\n",
    "What is the result of the following code?\n",
    "\n",
    "```python\n",
    "import pandas as pd\n",
    "import numpy as np\n",
    "\n",
    "df = pd.DataFrame(np.random.randn(5, 3), columns=['col1', 'col2', 'col3'])\n",
    "df.apply(lambda x: x.max() - x.min())\n",
    "```\n",
    "\n",
    "A. col1    1.0\n",
    "    col2    1.0\n",
    "    col3    1.0\n",
    "    dtype: float64\n",
    "\n",
    "B. col1    1.0\n",
    "    col2    1.0\n",
    "    col3    1.0\n",
    "    dtype: float64\n",
    "\n",
    "C. col1    1.0\n",
    "    col2    1.0\n",
    "    col3    1.0\n",
    "    dtype: float64\n",
    "\n",
    "D. col1    1.0\n",
    "    col2    1.0\n",
    "    col3    1.0\n",
    "    dtype: float64\n"
   ]
  },
  {
   "cell_type": "code",
   "execution_count": 1,
   "metadata": {},
   "outputs": [
    {
     "data": {
      "text/plain": [
       "col1    1.996295\n",
       "col2    2.893228\n",
       "col3    1.778063\n",
       "dtype: float64"
      ]
     },
     "execution_count": 1,
     "metadata": {},
     "output_type": "execute_result"
    }
   ],
   "source": [
    "import pandas as pd\n",
    "import numpy as np\n",
    "\n",
    "df = pd.DataFrame(np.random.randn(5, 3), columns=['col1', 'col2', 'col3'])\n",
    "df.apply(lambda x: x.max() - x.min())"
   ]
  },
  {
   "cell_type": "markdown",
   "metadata": {},
   "source": [
    "## Question 2\n",
    "\n",
    "Download a csv file from https://stats.govt.nz/assets/Uploads/Business-employment-data/Business-employment-data-June-2022-quarter/Download-data/business-employment-data-june-2022-quarter-csv.zip and load it into a pandas dataframe. How many rows and columns are there?\n"
   ]
  },
  {
   "cell_type": "code",
   "execution_count": 14,
   "metadata": {},
   "outputs": [
    {
     "name": "stdout",
     "output_type": "stream",
     "text": [
      "<class 'pandas.core.frame.DataFrame'>\n",
      "RangeIndex: 20254 entries, 0 to 20253\n",
      "Data columns (total 14 columns):\n",
      " #   Column            Non-Null Count  Dtype  \n",
      "---  ------            --------------  -----  \n",
      " 0   Series_reference  20254 non-null  object \n",
      " 1   Period            20254 non-null  float64\n",
      " 2   Data_value        15795 non-null  float64\n",
      " 3   Suppressed        2875 non-null   object \n",
      " 4   STATUS            20254 non-null  object \n",
      " 5   UNITS             20254 non-null  object \n",
      " 6   Magnitude         20254 non-null  int64  \n",
      " 7   Subject           20254 non-null  object \n",
      " 8   Group             20254 non-null  object \n",
      " 9   Series_title_1    20254 non-null  object \n",
      " 10  Series_title_2    20254 non-null  object \n",
      " 11  Series_title_3    20254 non-null  object \n",
      " 12  Series_title_4    0 non-null      float64\n",
      " 13  Series_title_5    0 non-null      float64\n",
      "dtypes: float64(4), int64(1), object(9)\n",
      "memory usage: 2.2+ MB\n"
     ]
    },
    {
     "data": {
      "text/plain": [
       "Series_reference    20254\n",
       "Period              20254\n",
       "Data_value          15795\n",
       "Suppressed           2875\n",
       "STATUS              20254\n",
       "UNITS               20254\n",
       "Magnitude           20254\n",
       "Subject             20254\n",
       "Group               20254\n",
       "Series_title_1      20254\n",
       "Series_title_2      20254\n",
       "Series_title_3      20254\n",
       "Series_title_4          0\n",
       "Series_title_5          0\n",
       "dtype: int64"
      ]
     },
     "execution_count": 14,
     "metadata": {},
     "output_type": "execute_result"
    }
   ],
   "source": [
    "import pandas as pd\n",
    "\n",
    "df = pd.read_csv(\"machine-readable-business-employment-data-june-2022-quarter.csv\")\n",
    "df.info()\n",
    "df.count()"
   ]
  },
  {
   "cell_type": "markdown",
   "metadata": {},
   "source": [
    "## Question 3\n",
    "\n",
    "What method can be used to get the number of non-NA values in a pandas dataframe?\n",
    "\n",
    "A. `df.count()`\n",
    "\n",
    "B. `df.na_count()`\n",
    "\n",
    "C. `df.na_values()`\n",
    "\n",
    "D. `df.na_count()`\n"
   ]
  },
  {
   "cell_type": "code",
   "execution_count": 19,
   "metadata": {},
   "outputs": [
    {
     "data": {
      "text/plain": [
       "Series_reference        0\n",
       "Period                  0\n",
       "Data_value           4459\n",
       "Suppressed          17379\n",
       "STATUS                  0\n",
       "UNITS                   0\n",
       "Magnitude               0\n",
       "Subject                 0\n",
       "Group                   0\n",
       "Series_title_1          0\n",
       "Series_title_2          0\n",
       "Series_title_3          0\n",
       "Series_title_4      20254\n",
       "Series_title_5      20254\n",
       "dtype: int64"
      ]
     },
     "execution_count": 19,
     "metadata": {},
     "output_type": "execute_result"
    }
   ],
   "source": [
    "#None of the above\n",
    "\n",
    "df.isna().sum()\n"
   ]
  },
  {
   "cell_type": "markdown",
   "metadata": {},
   "source": [
    "\n",
    "## Question 4\n",
    "\n",
    "Create a dataframe with 10 rows and 3 columns, where the values are random numbers between 1 and 10 (inclusive). Then, replace all values greater than 5 with the value 10.\n"
   ]
  },
  {
   "cell_type": "code",
   "execution_count": 31,
   "metadata": {},
   "outputs": [
    {
     "data": {
      "text/html": [
       "<div>\n",
       "<style scoped>\n",
       "    .dataframe tbody tr th:only-of-type {\n",
       "        vertical-align: middle;\n",
       "    }\n",
       "\n",
       "    .dataframe tbody tr th {\n",
       "        vertical-align: top;\n",
       "    }\n",
       "\n",
       "    .dataframe thead th {\n",
       "        text-align: right;\n",
       "    }\n",
       "</style>\n",
       "<table border=\"1\" class=\"dataframe\">\n",
       "  <thead>\n",
       "    <tr style=\"text-align: right;\">\n",
       "      <th></th>\n",
       "      <th>first</th>\n",
       "      <th>second</th>\n",
       "      <th>third</th>\n",
       "    </tr>\n",
       "  </thead>\n",
       "  <tbody>\n",
       "    <tr>\n",
       "      <th>0</th>\n",
       "      <td>0</td>\n",
       "      <td>10</td>\n",
       "      <td>10</td>\n",
       "    </tr>\n",
       "    <tr>\n",
       "      <th>1</th>\n",
       "      <td>10</td>\n",
       "      <td>2</td>\n",
       "      <td>10</td>\n",
       "    </tr>\n",
       "    <tr>\n",
       "      <th>2</th>\n",
       "      <td>3</td>\n",
       "      <td>10</td>\n",
       "      <td>10</td>\n",
       "    </tr>\n",
       "    <tr>\n",
       "      <th>3</th>\n",
       "      <td>2</td>\n",
       "      <td>0</td>\n",
       "      <td>10</td>\n",
       "    </tr>\n",
       "    <tr>\n",
       "      <th>4</th>\n",
       "      <td>10</td>\n",
       "      <td>1</td>\n",
       "      <td>0</td>\n",
       "    </tr>\n",
       "    <tr>\n",
       "      <th>5</th>\n",
       "      <td>5</td>\n",
       "      <td>4</td>\n",
       "      <td>10</td>\n",
       "    </tr>\n",
       "    <tr>\n",
       "      <th>6</th>\n",
       "      <td>0</td>\n",
       "      <td>0</td>\n",
       "      <td>0</td>\n",
       "    </tr>\n",
       "    <tr>\n",
       "      <th>7</th>\n",
       "      <td>10</td>\n",
       "      <td>5</td>\n",
       "      <td>3</td>\n",
       "    </tr>\n",
       "    <tr>\n",
       "      <th>8</th>\n",
       "      <td>10</td>\n",
       "      <td>5</td>\n",
       "      <td>2</td>\n",
       "    </tr>\n",
       "    <tr>\n",
       "      <th>9</th>\n",
       "      <td>10</td>\n",
       "      <td>4</td>\n",
       "      <td>10</td>\n",
       "    </tr>\n",
       "  </tbody>\n",
       "</table>\n",
       "</div>"
      ],
      "text/plain": [
       "   first  second  third\n",
       "0      0      10     10\n",
       "1     10       2     10\n",
       "2      3      10     10\n",
       "3      2       0     10\n",
       "4     10       1      0\n",
       "5      5       4     10\n",
       "6      0       0      0\n",
       "7     10       5      3\n",
       "8     10       5      2\n",
       "9     10       4     10"
      ]
     },
     "execution_count": 31,
     "metadata": {},
     "output_type": "execute_result"
    }
   ],
   "source": [
    "import pandas as pd\n",
    "import numpy as np\n",
    "\n",
    "df = pd.DataFrame(np.random.randint(0,10,size=(10, 3)), columns=['first', 'second', 'third'])\n",
    "df[df > 5] = 10\n",
    "df"
   ]
  },
  {
   "cell_type": "markdown",
   "metadata": {},
   "source": [
    "\n",
    "## Question 5\n",
    "create a dataframe from this link https://jsonplaceholder.typicode.com/albums"
   ]
  }
 ],
 "metadata": {
  "kernelspec": {
   "display_name": "Python 3.10.7 64-bit",
   "language": "python",
   "name": "python3"
  },
  "language_info": {
   "codemirror_mode": {
    "name": "ipython",
    "version": 3
   },
   "file_extension": ".py",
   "mimetype": "text/x-python",
   "name": "python",
   "nbconvert_exporter": "python",
   "pygments_lexer": "ipython3",
   "version": "3.10.7"
  },
  "orig_nbformat": 4,
  "vscode": {
   "interpreter": {
    "hash": "df95319d8ce4e1d89f5365ae10992bc1f65da593082b1d264e8f529830ec2f02"
   }
  }
 },
 "nbformat": 4,
 "nbformat_minor": 2
}
