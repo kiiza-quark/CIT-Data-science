{
 "cells": [
  {
   "cell_type": "markdown",
   "metadata": {},
   "source": [
    "IMPORTING THE LIBRARIES"
   ]
  },
  {
   "cell_type": "code",
   "execution_count": 27,
   "metadata": {},
   "outputs": [],
   "source": [
    "import pandas as pd\n",
    "import numpy as np\n",
    "import statistics as st"
   ]
  },
  {
   "cell_type": "code",
   "execution_count": 28,
   "metadata": {},
   "outputs": [
    {
     "data": {
      "text/plain": [
       "(3, 2)"
      ]
     },
     "execution_count": 28,
     "metadata": {},
     "output_type": "execute_result"
    }
   ],
   "source": [
    "#row by column\n",
    "nx = [\n",
    "    [4,7],\n",
    "    [8,9],\n",
    "    [11, 3],\n",
    "]\n",
    "\n",
    "np.shape(nx)\n"
   ]
  },
  {
   "cell_type": "markdown",
   "metadata": {},
   "source": [
    "Creating a numpy array"
   ]
  },
  {
   "cell_type": "code",
   "execution_count": 29,
   "metadata": {},
   "outputs": [
    {
     "data": {
      "text/plain": [
       "(5, 10)"
      ]
     },
     "execution_count": 29,
     "metadata": {},
     "output_type": "execute_result"
    }
   ],
   "source": [
    "arr = np.array([[i for i in range(10)] for n in range(5)])\n",
    "arr.shape"
   ]
  },
  {
   "cell_type": "markdown",
   "metadata": {},
   "source": [
    "Statistics"
   ]
  },
  {
   "cell_type": "code",
   "execution_count": 30,
   "metadata": {},
   "outputs": [],
   "source": [
    "from numpy import average\n",
    "\n",
    "\n",
    "student_marks = [78,55,33,22,88,98,55]\n",
    "\n",
    "student_marks = np.array(student_marks)\n",
    "\n",
    "mean = student_marks.mean()\n",
    "median = np.median(student_marks)\n",
    "mode = st.mode(student_marks)\n",
    "\n",
    "\n"
   ]
  },
  {
   "cell_type": "code",
   "execution_count": 31,
   "metadata": {},
   "outputs": [
    {
     "name": "stdout",
     "output_type": "stream",
     "text": [
      "Mean: 76.33333333333333 Median: 88.0 Mode: 89\n"
     ]
    }
   ],
   "source": [
    "marks = np.array([\n",
    "    [78,99,88],\n",
    "    [11,77,90],\n",
    "    [89,66,89]\n",
    "])\n",
    "\n",
    "mean = marks.mean()\n",
    "mode = st.mode(marks.flatten())\n",
    "median = np.median(marks.flatten())\n",
    "\n",
    "print(f\"Mean: {mean} Median: {median} Mode: {mode}\")"
   ]
  },
  {
   "cell_type": "code",
   "execution_count": 36,
   "metadata": {},
   "outputs": [
    {
     "data": {
      "text/plain": [
       "2"
      ]
     },
     "execution_count": 36,
     "metadata": {},
     "output_type": "execute_result"
    }
   ],
   "source": [
    "\n",
    "arr = np.array([33,55,44,1,23,12,11,21,6,77,3], ndmin=2)\n",
    "arr.ndim"
   ]
  },
  {
   "cell_type": "code",
   "execution_count": 42,
   "metadata": {},
   "outputs": [
    {
     "name": "stdout",
     "output_type": "stream",
     "text": [
      "[78, 99, 88, 11, 77, 90, 89, 66, 89]\n"
     ]
    }
   ],
   "source": [
    "marks = np.array([\n",
    "    [78,99,88],\n",
    "    [11,77,90],\n",
    "    [89,66,89]\n",
    "])\n",
    "\n",
    "print(list(marks[i][j] for i in range(3) for j in range(3)))"
   ]
  },
  {
   "cell_type": "code",
   "execution_count": 47,
   "metadata": {},
   "outputs": [
    {
     "data": {
      "text/plain": [
       "88"
      ]
     },
     "execution_count": 47,
     "metadata": {},
     "output_type": "execute_result"
    }
   ],
   "source": [
    "marks = np.array([\n",
    "    [78,99,88],\n",
    "    [11,77,90],\n",
    "    [89,66,89]\n",
    "])\n",
    "\n",
    "sub_arr = np.array([i for i in range(3) for _ in range(3)])\n",
    "sub_arr\n",
    "marks.flatten()[2:3]\n",
    "marks[0,2]"
   ]
  }
 ],
 "metadata": {
  "kernelspec": {
   "display_name": "Python 3.10.7 64-bit",
   "language": "python",
   "name": "python3"
  },
  "language_info": {
   "codemirror_mode": {
    "name": "ipython",
    "version": 3
   },
   "file_extension": ".py",
   "mimetype": "text/x-python",
   "name": "python",
   "nbconvert_exporter": "python",
   "pygments_lexer": "ipython3",
   "version": "3.10.7"
  },
  "orig_nbformat": 4,
  "vscode": {
   "interpreter": {
    "hash": "df95319d8ce4e1d89f5365ae10992bc1f65da593082b1d264e8f529830ec2f02"
   }
  }
 },
 "nbformat": 4,
 "nbformat_minor": 2
}
